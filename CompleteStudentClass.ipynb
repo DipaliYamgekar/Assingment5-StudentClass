{
 "cells": [
  {
   "cell_type": "code",
   "execution_count": 17,
   "id": "45623718",
   "metadata": {},
   "outputs": [],
   "source": [
    "class Student:\n",
    "    \n",
    "    def setName(self, Name):\n",
    "        self.__Name = Name\n",
    "        pass\n",
    "    \n",
    "    def getName(self):\n",
    "        return self.__Name\n",
    "        pass\n",
    "    \n",
    "    def setRollNumber(self, RollNumber):\n",
    "        self.__RollNumber = RollNumber\n",
    "        pass\n",
    "    \n",
    "    def getRollNumber(self):\n",
    "        return self.__RollNumber\n",
    "        pass\n",
    "\n",
    "\n"
   ]
  },
  {
   "cell_type": "code",
   "execution_count": null,
   "id": "9b6f9319",
   "metadata": {},
   "outputs": [],
   "source": []
  },
  {
   "cell_type": "code",
   "execution_count": null,
   "id": "2905c063",
   "metadata": {},
   "outputs": [],
   "source": []
  }
 ],
 "metadata": {
  "kernelspec": {
   "display_name": "Python 3 (ipykernel)",
   "language": "python",
   "name": "python3"
  },
  "language_info": {
   "codemirror_mode": {
    "name": "ipython",
    "version": 3
   },
   "file_extension": ".py",
   "mimetype": "text/x-python",
   "name": "python",
   "nbconvert_exporter": "python",
   "pygments_lexer": "ipython3",
   "version": "3.9.12"
  }
 },
 "nbformat": 4,
 "nbformat_minor": 5
}
